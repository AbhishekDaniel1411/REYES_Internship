{
 "cells": [
  {
   "cell_type": "markdown",
   "metadata": {},
   "source": [
    "## Week #3: Exercise\n",
    "## To Plot Phase space ($\\rho$) vs com energy (E*/m) for identical particles\n",
    "\n",
    "The phase space, $\\rho$ is a kinematic function. It characterizes on-shell scattering of two particles.\n",
    "\n",
    "It is mathematically defined as,\n",
    "\n",
    "\\begin{equation}\n",
    "    \\rho = \\frac{\\xi q^{*}}{8\\pi E^{*}}     \n",
    "\\end{equation}\n",
    "\n",
    "for\n",
    "$ E^{*} \\geq 2m$\n",
    "\n",
    "where $q^{*}$ is the relative momentum between particles in center of momentum frame and defined as \n",
    "\n",
    "$$q^{*} = \\frac{1}{2} \\sqrt{E^{*2} - 4m^2}$$\n",
    "\n",
    "and $\\xi$ parameter defined as\n",
    "\n",
    "$$\\xi = \\begin{cases} \n",
    "      \\frac{1}{2}, &  \\text{identical}\\\\\n",
    "      1, &  \\text{otherwise} \n",
    "   \\end{cases} $$\n",
    "\n",
    "Here, we are considering the case for identical particles. Thus, $\\xi = \\frac{1}{2}$\n",
    "\n",
    "Substituting all this values will give\n",
    "\n",
    "$$\\rho = \\begin{cases}\n",
    "0, & E^{*} \\leq 2m \\\\\n",
    "\\frac{1}{32\\pi}\\frac{\\sqrt{E^{*2} - 4m^2}}{E^{*}}, & E^{*} > 2m\n",
    "\\end{cases}$$\n",
    "\n",
    "We are assigned to plot in the range $1.8 \\leq E^{*}/m \\leq 3.2$"
   ]
  },
  {
   "cell_type": "code",
   "execution_count": 1,
   "metadata": {},
   "outputs": [
    {
     "name": "stdout",
     "output_type": "stream",
     "text": [
      "E*/m =  [1.8  1.81 1.82 1.83 1.84 1.85 1.86 1.87 1.88 1.89 1.9  1.91 1.92 1.93\n",
      " 1.94 1.95 1.96 1.97 1.98 1.99 2.   2.01 2.02 2.03 2.04 2.05 2.06 2.07\n",
      " 2.08 2.09 2.1  2.11 2.12 2.13 2.14 2.15 2.16 2.17 2.18 2.19 2.2  2.21\n",
      " 2.22 2.23 2.24 2.25 2.26 2.27 2.28 2.29 2.3  2.31 2.32 2.33 2.34 2.35\n",
      " 2.36 2.37 2.38 2.39 2.4  2.41 2.42 2.43 2.44 2.45 2.46 2.47 2.48 2.49\n",
      " 2.5  2.51 2.52 2.53 2.54 2.55 2.56 2.57 2.58 2.59 2.6  2.61 2.62 2.63\n",
      " 2.64 2.65 2.66 2.67 2.68 2.69 2.7  2.71 2.72 2.73 2.74 2.75 2.76 2.77\n",
      " 2.78 2.79 2.8  2.81 2.82 2.83 2.84 2.85 2.86 2.87 2.88 2.89 2.9  2.91\n",
      " 2.92 2.93 2.94 2.95 2.96 2.97 2.98 2.99 3.   3.01 3.02 3.03 3.04 3.05\n",
      " 3.06 3.07 3.08 3.09 3.1  3.11 3.12 3.13 3.14 3.15 3.16 3.17 3.18 3.19\n",
      " 3.2 ]\n",
      "rho =  [0.         0.         0.         0.         0.         0.\n",
      " 0.         0.         0.         0.         0.         0.\n",
      " 0.         0.         0.         0.         0.         0.\n",
      " 0.         0.         0.         0.00978084 0.01378087 0.01681578\n",
      " 0.01934597 0.02155056 0.02352184 0.02531487 0.0269657  0.02849945\n",
      " 0.02993454 0.03128489 0.03256141 0.03377279 0.03492612 0.03602725\n",
      " 0.03708112 0.0380919  0.0390632  0.03999812 0.04089939 0.04176941\n",
      " 0.04261029 0.04342393 0.04421203 0.04497611 0.04571755 0.04643761\n",
      " 0.04713744 0.04781807 0.04848048 0.04912555 0.04975409 0.05036686\n",
      " 0.05096457 0.05154787 0.05211736 0.05267362 0.05321717 0.05374853\n",
      " 0.05426815 0.05477647 0.05527393 0.05576089 0.05623774 0.05670483\n",
      " 0.05716249 0.05761103 0.05805075 0.05848194 0.05890486 0.05931978\n",
      " 0.05972694 0.06012657 0.06051889 0.06090413 0.06128248 0.06165415\n",
      " 0.06201931 0.06237815 0.06273084 0.06307754 0.06341842 0.06375363\n",
      " 0.06408331 0.06440761 0.06472666 0.06504059 0.06534953 0.06565361\n",
      " 0.06595293 0.06624761 0.06653777 0.0668235  0.06710492 0.06738211\n",
      " 0.06765518 0.06792422 0.06818932 0.06845056 0.06870803 0.06896181\n",
      " 0.06921197 0.06945861 0.06970178 0.06994157 0.07017804 0.07041126\n",
      " 0.0706413  0.07086821 0.07109208 0.07131294 0.07153087 0.07174592\n",
      " 0.07195815 0.0721676  0.07237434 0.07257842 0.07277988 0.07297878\n",
      " 0.07317515 0.07336906 0.07356054 0.07374963 0.07393639 0.07412085\n",
      " 0.07430305 0.07448304 0.07466085 0.07483652 0.07501008 0.07518158\n",
      " 0.07535105 0.07551852 0.07568403 0.07584761 0.07600929 0.0761691\n",
      " 0.07632708 0.07648326 0.07663766]\n"
     ]
    },
    {
     "data": {
      "image/png": "[encoded data removed]",
      "text/plain": [
       "<Figure size 432x288 with 1 Axes>"
      ]
     },
     "metadata": {
      "needs_background": "light"
     },
     "output_type": "display_data"
    }
   ],
   "source": [
    "import numpy as np\n",
    "import matplotlib.pyplot as plt\n",
    "\n",
    "def func(x):\n",
    "    return np.piecewise(x, [x < 2.0, x > 2.0], [lambda x: x * 0, lambda x: (1/32*np.pi)*(np.sqrt(x**2-4)/x)])\n",
    "\n",
    "\n",
    "E = np.arange(1.8, 3.201, 0.01)\n",
    "\n",
    "vfunc = np.vectorize(func)\n",
    "rho = vfunc(E)\n",
    "\n",
    "print('E*/m = ', E)\n",
    "print('rho = ', rho)\n",
    "\n",
    "plt.plot(E, rho,'b')\n",
    "plt.plot(2, 0, marker ='o', color = 'r')\n",
    "plt.xlabel('E*/m')\n",
    "plt.ylabel('rho')\n",
    "plt.show()\n"
   ]
  },
  {
   "cell_type": "code",
   "execution_count": null,
   "metadata": {},
   "outputs": [],
   "source": []
  }
 ],
 "metadata": {
  "kernelspec": {
   "display_name": "Python 3",
   "language": "python",
   "name": "python3"
  },
  "language_info": {
   "codemirror_mode": {
    "name": "ipython",
    "version": 3
   },
   "file_extension": ".py",
   "mimetype": "text/x-python",
   "name": "python",
   "nbconvert_exporter": "python",
   "pygments_lexer": "ipython3",
   "version": "3.8.5"
  }
 },
 "nbformat": 4,
 "nbformat_minor": 4
}
